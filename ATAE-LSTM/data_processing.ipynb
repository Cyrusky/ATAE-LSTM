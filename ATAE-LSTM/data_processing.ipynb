{
 "cells": [
  {
   "cell_type": "code",
   "execution_count": 1,
   "metadata": {},
   "outputs": [],
   "source": [
    "import xml.etree.cElementTree as ET\n",
    "import pandas as pd\n",
    "from nltk.tokenize import word_tokenize"
   ]
  },
  {
   "cell_type": "markdown",
   "metadata": {},
   "source": [
    "# XML 解析"
   ]
  },
  {
   "cell_type": "markdown",
   "metadata": {},
   "source": [
    "## restuarants"
   ]
  },
  {
   "cell_type": "code",
   "execution_count": 8,
   "metadata": {},
   "outputs": [
    {
     "data": {
      "text/plain": [
       "'sentences'"
      ]
     },
     "execution_count": 8,
     "metadata": {},
     "output_type": "execute_result"
    }
   ],
   "source": [
    "path = 'data/restaurants-train.xml'\n",
    "tree = ET.parse(path)\n",
    "root = tree.getroot()\n",
    "root.tag"
   ]
  },
  {
   "cell_type": "code",
   "execution_count": 9,
   "metadata": {},
   "outputs": [
    {
     "data": {
      "text/plain": [
       "['But', 'the', 'staff', 'was', 'so', 'horrible', 'to', 'us', '.']"
      ]
     },
     "execution_count": 9,
     "metadata": {},
     "output_type": "execute_result"
    }
   ],
   "source": [
    "root[0][0].text\n",
    "token=word_tokenize(root[0][0].text)\n",
    "token"
   ]
  },
  {
   "cell_type": "code",
   "execution_count": 10,
   "metadata": {},
   "outputs": [
    {
     "data": {
      "text/plain": [
       "['But', 'the', 'staff', 'was', 'so', 'horrible', 'to', 'us']"
      ]
     },
     "execution_count": 10,
     "metadata": {},
     "output_type": "execute_result"
    }
   ],
   "source": [
    "from nltk.corpus import stopwords\n",
    "\n",
    "stop_words = []\n",
    "for w in ['!',',','.','?','-s','-ly','</s>','s','(',')',' ']:\n",
    "    stop_words.append(w)\n",
    "train = [w for w in token if w not in stop_words]\n",
    "train"
   ]
  },
  {
   "cell_type": "raw",
   "metadata": {},
   "source": [
    "from nltk.corpus import stopwords\n",
    "\n",
    "stop_words = stopwords.words('english')\n",
    "for w in ['!',',','.','?','-s','-ly','</s>','s','(',')',' ']:\n",
    "    stop_words.append(w)\n",
    "train = [w for w in token if w not in stop_words]\n",
    "train"
   ]
  },
  {
   "cell_type": "code",
   "execution_count": 11,
   "metadata": {},
   "outputs": [],
   "source": [
    "data = []\n",
    "for sentence in root.findall('sentence'):\n",
    "    text = sentence.find('text').text\n",
    "    clean_text = [w for w in word_tokenize(text) if w not in stop_words]\n",
    "    aspectCategories = sentence.find('aspectCategories')\n",
    "    for aspectCategory in aspectCategories.findall('aspectCategory'):\n",
    "        category = aspectCategory.get('category')\n",
    "        polarity = aspectCategory.get('polarity')\n",
    "        data.append((text, category, polarity))\n",
    "data = np.random.permutation(data)"
   ]
  },
  {
   "cell_type": "code",
   "execution_count": 12,
   "metadata": {},
   "outputs": [],
   "source": [
    "df = pd.DataFrame(data,columns=['text', 'aspect', 'polarity'])\n",
    "df = df[df['polarity'].isin(['positive', 'negative', 'neutral'])]\n",
    "df.groupby('aspect')['aspect'].count()\n",
    "df['aspect'] = df['aspect'].replace('anecdotes/miscellaneous', 'anecdotes miscellaneous')\n",
    "df['polarity'] = df['polarity'].map(\n",
    "    {'positive': 1, 'neutral': 0, 'negative': -1})"
   ]
  },
  {
   "cell_type": "code",
   "execution_count": 13,
   "metadata": {},
   "outputs": [
    {
     "data": {
      "text/html": [
       "<div>\n",
       "<style scoped>\n",
       "    .dataframe tbody tr th:only-of-type {\n",
       "        vertical-align: middle;\n",
       "    }\n",
       "\n",
       "    .dataframe tbody tr th {\n",
       "        vertical-align: top;\n",
       "    }\n",
       "\n",
       "    .dataframe thead th {\n",
       "        text-align: right;\n",
       "    }\n",
       "</style>\n",
       "<table border=\"1\" class=\"dataframe\">\n",
       "  <thead>\n",
       "    <tr style=\"text-align: right;\">\n",
       "      <th></th>\n",
       "      <th>text</th>\n",
       "      <th>aspect</th>\n",
       "      <th>polarity</th>\n",
       "    </tr>\n",
       "  </thead>\n",
       "  <tbody>\n",
       "    <tr>\n",
       "      <th>0</th>\n",
       "      <td>This is the kind of place you'd like to take a...</td>\n",
       "      <td>anecdotes miscellaneous</td>\n",
       "      <td>1</td>\n",
       "    </tr>\n",
       "    <tr>\n",
       "      <th>1</th>\n",
       "      <td>Food was okay, nothing great.</td>\n",
       "      <td>food</td>\n",
       "      <td>0</td>\n",
       "    </tr>\n",
       "    <tr>\n",
       "      <th>2</th>\n",
       "      <td>Fabulous service, fantastic food, and a chille...</td>\n",
       "      <td>food</td>\n",
       "      <td>1</td>\n",
       "    </tr>\n",
       "    <tr>\n",
       "      <th>3</th>\n",
       "      <td>I highly recommend the Sophia pizza.</td>\n",
       "      <td>anecdotes miscellaneous</td>\n",
       "      <td>1</td>\n",
       "    </tr>\n",
       "    <tr>\n",
       "      <th>4</th>\n",
       "      <td>All conveniently delivered right to the door.</td>\n",
       "      <td>service</td>\n",
       "      <td>1</td>\n",
       "    </tr>\n",
       "    <tr>\n",
       "      <th>...</th>\n",
       "      <td>...</td>\n",
       "      <td>...</td>\n",
       "      <td>...</td>\n",
       "    </tr>\n",
       "    <tr>\n",
       "      <th>3709</th>\n",
       "      <td>Just because it's cheap does NOT mean the port...</td>\n",
       "      <td>price</td>\n",
       "      <td>1</td>\n",
       "    </tr>\n",
       "    <tr>\n",
       "      <th>3710</th>\n",
       "      <td>Everything is delicious, though, my gf and I c...</td>\n",
       "      <td>food</td>\n",
       "      <td>1</td>\n",
       "    </tr>\n",
       "    <tr>\n",
       "      <th>3711</th>\n",
       "      <td>Decent wine at reasonable prices.</td>\n",
       "      <td>price</td>\n",
       "      <td>1</td>\n",
       "    </tr>\n",
       "    <tr>\n",
       "      <th>3712</th>\n",
       "      <td>Any if you have a reservation you'll wait for ...</td>\n",
       "      <td>service</td>\n",
       "      <td>1</td>\n",
       "    </tr>\n",
       "    <tr>\n",
       "      <th>3713</th>\n",
       "      <td>We were told that they were booked solid and n...</td>\n",
       "      <td>service</td>\n",
       "      <td>-1</td>\n",
       "    </tr>\n",
       "  </tbody>\n",
       "</table>\n",
       "<p>3518 rows × 3 columns</p>\n",
       "</div>"
      ],
      "text/plain": [
       "                                                   text  \\\n",
       "0     This is the kind of place you'd like to take a...   \n",
       "1                         Food was okay, nothing great.   \n",
       "2     Fabulous service, fantastic food, and a chille...   \n",
       "3                  I highly recommend the Sophia pizza.   \n",
       "4         All conveniently delivered right to the door.   \n",
       "...                                                 ...   \n",
       "3709  Just because it's cheap does NOT mean the port...   \n",
       "3710  Everything is delicious, though, my gf and I c...   \n",
       "3711                  Decent wine at reasonable prices.   \n",
       "3712  Any if you have a reservation you'll wait for ...   \n",
       "3713  We were told that they were booked solid and n...   \n",
       "\n",
       "                       aspect  polarity  \n",
       "0     anecdotes miscellaneous         1  \n",
       "1                        food         0  \n",
       "2                        food         1  \n",
       "3     anecdotes miscellaneous         1  \n",
       "4                     service         1  \n",
       "...                       ...       ...  \n",
       "3709                    price         1  \n",
       "3710                     food         1  \n",
       "3711                    price         1  \n",
       "3712                  service         1  \n",
       "3713                  service        -1  \n",
       "\n",
       "[3518 rows x 3 columns]"
      ]
     },
     "execution_count": 13,
     "metadata": {},
     "output_type": "execute_result"
    }
   ],
   "source": [
    "df.to_csv('data/data.csv', sep=' ',index=0)\n",
    "df"
   ]
  },
  {
   "cell_type": "raw",
   "metadata": {},
   "source": [
    "df[df['text'].str.contains(\"miscellaneous\")]"
   ]
  },
  {
   "cell_type": "code",
   "execution_count": 126,
   "metadata": {},
   "outputs": [],
   "source": [
    "import numpy as np\n",
    "import re\n",
    "from nltk.tokenize import word_tokenize\n",
    "from nltk.corpus import stopwords"
   ]
  },
  {
   "cell_type": "code",
   "execution_count": 127,
   "metadata": {},
   "outputs": [],
   "source": [
    "dataset = pd.read_csv('data/data.csv', sep=' ')"
   ]
  },
  {
   "cell_type": "code",
   "execution_count": 128,
   "metadata": {},
   "outputs": [
    {
     "data": {
      "text/html": [
       "<div>\n",
       "<style scoped>\n",
       "    .dataframe tbody tr th:only-of-type {\n",
       "        vertical-align: middle;\n",
       "    }\n",
       "\n",
       "    .dataframe tbody tr th {\n",
       "        vertical-align: top;\n",
       "    }\n",
       "\n",
       "    .dataframe thead th {\n",
       "        text-align: right;\n",
       "    }\n",
       "</style>\n",
       "<table border=\"1\" class=\"dataframe\">\n",
       "  <thead>\n",
       "    <tr style=\"text-align: right;\">\n",
       "      <th></th>\n",
       "      <th>text</th>\n",
       "      <th>aspect</th>\n",
       "      <th>polarity</th>\n",
       "    </tr>\n",
       "  </thead>\n",
       "  <tbody>\n",
       "    <tr>\n",
       "      <th>0</th>\n",
       "      <td>Out of the hundreds of Italian restaurants in ...</td>\n",
       "      <td>anecdotes miscellaneous</td>\n",
       "      <td>1</td>\n",
       "    </tr>\n",
       "    <tr>\n",
       "      <th>1</th>\n",
       "      <td>I go twice a month!</td>\n",
       "      <td>anecdotes miscellaneous</td>\n",
       "      <td>0</td>\n",
       "    </tr>\n",
       "    <tr>\n",
       "      <th>2</th>\n",
       "      <td>My fiance took me to Scopa last week for my bi...</td>\n",
       "      <td>anecdotes miscellaneous</td>\n",
       "      <td>0</td>\n",
       "    </tr>\n",
       "    <tr>\n",
       "      <th>3</th>\n",
       "      <td>Incredible food at a very agreable price bring...</td>\n",
       "      <td>price</td>\n",
       "      <td>1</td>\n",
       "    </tr>\n",
       "    <tr>\n",
       "      <th>4</th>\n",
       "      <td>When you're sitting in their main dining room ...</td>\n",
       "      <td>ambience</td>\n",
       "      <td>1</td>\n",
       "    </tr>\n",
       "    <tr>\n",
       "      <th>...</th>\n",
       "      <td>...</td>\n",
       "      <td>...</td>\n",
       "      <td>...</td>\n",
       "    </tr>\n",
       "    <tr>\n",
       "      <th>3513</th>\n",
       "      <td>The red curry is weak and tasteless, the pad t...</td>\n",
       "      <td>food</td>\n",
       "      <td>-1</td>\n",
       "    </tr>\n",
       "    <tr>\n",
       "      <th>3514</th>\n",
       "      <td>We usually just get some of the dinner special...</td>\n",
       "      <td>food</td>\n",
       "      <td>1</td>\n",
       "    </tr>\n",
       "    <tr>\n",
       "      <th>3515</th>\n",
       "      <td>We recently decided to try this location, and ...</td>\n",
       "      <td>ambience</td>\n",
       "      <td>1</td>\n",
       "    </tr>\n",
       "    <tr>\n",
       "      <th>3516</th>\n",
       "      <td>The Thali was small, thoroughly unremarkable, ...</td>\n",
       "      <td>price</td>\n",
       "      <td>-1</td>\n",
       "    </tr>\n",
       "    <tr>\n",
       "      <th>3517</th>\n",
       "      <td>I have to say I have never had a disapointing ...</td>\n",
       "      <td>food</td>\n",
       "      <td>1</td>\n",
       "    </tr>\n",
       "  </tbody>\n",
       "</table>\n",
       "<p>3518 rows × 3 columns</p>\n",
       "</div>"
      ],
      "text/plain": [
       "                                                   text  \\\n",
       "0     Out of the hundreds of Italian restaurants in ...   \n",
       "1                                   I go twice a month!   \n",
       "2     My fiance took me to Scopa last week for my bi...   \n",
       "3     Incredible food at a very agreable price bring...   \n",
       "4     When you're sitting in their main dining room ...   \n",
       "...                                                 ...   \n",
       "3513  The red curry is weak and tasteless, the pad t...   \n",
       "3514  We usually just get some of the dinner special...   \n",
       "3515  We recently decided to try this location, and ...   \n",
       "3516  The Thali was small, thoroughly unremarkable, ...   \n",
       "3517  I have to say I have never had a disapointing ...   \n",
       "\n",
       "                       aspect  polarity  \n",
       "0     anecdotes miscellaneous         1  \n",
       "1     anecdotes miscellaneous         0  \n",
       "2     anecdotes miscellaneous         0  \n",
       "3                       price         1  \n",
       "4                    ambience         1  \n",
       "...                       ...       ...  \n",
       "3513                     food        -1  \n",
       "3514                     food         1  \n",
       "3515                 ambience         1  \n",
       "3516                    price        -1  \n",
       "3517                     food         1  \n",
       "\n",
       "[3518 rows x 3 columns]"
      ]
     },
     "execution_count": 128,
     "metadata": {},
     "output_type": "execute_result"
    }
   ],
   "source": [
    "dataset"
   ]
  },
  {
   "cell_type": "code",
   "execution_count": 129,
   "metadata": {},
   "outputs": [],
   "source": [
    "# 英文缩写替换\n",
    "text_abbreviation = []\n",
    "for item in dataset['text'].tolist():\n",
    "    item = item.lower().replace(\"it's\", \"it is\").replace(\"i'm\", \"i am\").replace(\"he's\", \"he is\").replace(\"she's\", \"she is\")\\\n",
    "        .replace(\"we're\", \"we are\").replace(\"they're\", \"they are\").replace(\"you're\", \"you are\").replace(\"that's\", \"that is\")\\\n",
    "        .replace(\"this's\", \"this is\").replace(\"can't\", \"can not\").replace(\"don't\", \"do not\").replace(\"doesn't\", \"does not\")\\\n",
    "        .replace(\"we've\", \"we have\").replace(\"i've\", \" i have\").replace(\"isn't\", \"is not\").replace(\"won't\", \"will not\")\\\n",
    "        .replace(\"hasn't\", \"has not\").replace(\"wasn't\", \"was not\").replace(\"weren't\", \"were not\").replace(\"let's\", \"let us\")\\\n",
    "        .replace(\"couldn't\", \"could not\")\n",
    "    text_abbreviation.append(item)"
   ]
  },
  {
   "cell_type": "code",
   "execution_count": 130,
   "metadata": {},
   "outputs": [],
   "source": [
    "# 删除标点符号、数字等其他字符\n",
    "text_clear = []\n",
    "for item in text_abbreviation:\n",
    "    item = re.sub(\"[^a-zA-Z]\", \" \", item)\n",
    "    text_clear.append(' '.join(item.split()))"
   ]
  },
  {
   "cell_type": "code",
   "execution_count": 131,
   "metadata": {},
   "outputs": [],
   "source": [
    "processed_text = []\n",
    "# 分词、词形归一化、删除停用词\n",
    "for item in text_clear:\n",
    "    words_token = word_tokenize(item)  # 分词\n",
    "    words = [w for w in words_token if w not in stop_words]\n",
    "    processed_text.append(' '.join(words))"
   ]
  },
  {
   "cell_type": "code",
   "execution_count": 145,
   "metadata": {},
   "outputs": [
    {
     "data": {
      "text/html": [
       "<div>\n",
       "<style scoped>\n",
       "    .dataframe tbody tr th:only-of-type {\n",
       "        vertical-align: middle;\n",
       "    }\n",
       "\n",
       "    .dataframe tbody tr th {\n",
       "        vertical-align: top;\n",
       "    }\n",
       "\n",
       "    .dataframe thead th {\n",
       "        text-align: right;\n",
       "    }\n",
       "</style>\n",
       "<table border=\"1\" class=\"dataframe\">\n",
       "  <thead>\n",
       "    <tr style=\"text-align: right;\">\n",
       "      <th></th>\n",
       "      <th>text</th>\n",
       "      <th>aspect</th>\n",
       "      <th>polarity</th>\n",
       "    </tr>\n",
       "  </thead>\n",
       "  <tbody>\n",
       "    <tr>\n",
       "      <th>0</th>\n",
       "      <td>out of the hundreds of italian restaurants in ...</td>\n",
       "      <td>anecdotes miscellaneous</td>\n",
       "      <td>1</td>\n",
       "    </tr>\n",
       "    <tr>\n",
       "      <th>1</th>\n",
       "      <td>i go twice a month</td>\n",
       "      <td>anecdotes miscellaneous</td>\n",
       "      <td>0</td>\n",
       "    </tr>\n",
       "    <tr>\n",
       "      <th>2</th>\n",
       "      <td>my fiance took me to scopa last week for my bi...</td>\n",
       "      <td>anecdotes miscellaneous</td>\n",
       "      <td>0</td>\n",
       "    </tr>\n",
       "    <tr>\n",
       "      <th>3</th>\n",
       "      <td>incredible food at a very agreable price bring...</td>\n",
       "      <td>price</td>\n",
       "      <td>1</td>\n",
       "    </tr>\n",
       "    <tr>\n",
       "      <th>4</th>\n",
       "      <td>when you are sitting in their main dining room...</td>\n",
       "      <td>ambience</td>\n",
       "      <td>1</td>\n",
       "    </tr>\n",
       "  </tbody>\n",
       "</table>\n",
       "</div>"
      ],
      "text/plain": [
       "                                                text                   aspect  \\\n",
       "0  out of the hundreds of italian restaurants in ...  anecdotes miscellaneous   \n",
       "1                                 i go twice a month  anecdotes miscellaneous   \n",
       "2  my fiance took me to scopa last week for my bi...  anecdotes miscellaneous   \n",
       "3  incredible food at a very agreable price bring...                    price   \n",
       "4  when you are sitting in their main dining room...                 ambience   \n",
       "\n",
       "   polarity  \n",
       "0         1  \n",
       "1         0  \n",
       "2         0  \n",
       "3         1  \n",
       "4         1  "
      ]
     },
     "execution_count": 145,
     "metadata": {},
     "output_type": "execute_result"
    }
   ],
   "source": [
    "df = pd.DataFrame({'text': processed_text,\n",
    "                   'aspect': dataset['aspect'] ,\n",
    "                   'polarity': dataset['polarity']})\n",
    "df.head()"
   ]
  },
  {
   "cell_type": "code",
   "execution_count": 148,
   "metadata": {},
   "outputs": [
    {
     "data": {
      "text/html": [
       "<div>\n",
       "<style scoped>\n",
       "    .dataframe tbody tr th:only-of-type {\n",
       "        vertical-align: middle;\n",
       "    }\n",
       "\n",
       "    .dataframe tbody tr th {\n",
       "        vertical-align: top;\n",
       "    }\n",
       "\n",
       "    .dataframe thead th {\n",
       "        text-align: right;\n",
       "    }\n",
       "</style>\n",
       "<table border=\"1\" class=\"dataframe\">\n",
       "  <thead>\n",
       "    <tr style=\"text-align: right;\">\n",
       "      <th></th>\n",
       "      <th>id</th>\n",
       "      <th>text</th>\n",
       "      <th>aspect</th>\n",
       "      <th>polarity</th>\n",
       "    </tr>\n",
       "  </thead>\n",
       "  <tbody>\n",
       "    <tr>\n",
       "      <th>0</th>\n",
       "      <td>0</td>\n",
       "      <td>out of the hundreds of italian restaurants in ...</td>\n",
       "      <td>anecdotes miscellaneous</td>\n",
       "      <td>1</td>\n",
       "    </tr>\n",
       "    <tr>\n",
       "      <th>1</th>\n",
       "      <td>1</td>\n",
       "      <td>i go twice a month</td>\n",
       "      <td>anecdotes miscellaneous</td>\n",
       "      <td>0</td>\n",
       "    </tr>\n",
       "    <tr>\n",
       "      <th>2</th>\n",
       "      <td>2</td>\n",
       "      <td>my fiance took me to scopa last week for my bi...</td>\n",
       "      <td>anecdotes miscellaneous</td>\n",
       "      <td>0</td>\n",
       "    </tr>\n",
       "    <tr>\n",
       "      <th>3</th>\n",
       "      <td>3</td>\n",
       "      <td>incredible food at a very agreable price bring...</td>\n",
       "      <td>price</td>\n",
       "      <td>1</td>\n",
       "    </tr>\n",
       "    <tr>\n",
       "      <th>4</th>\n",
       "      <td>4</td>\n",
       "      <td>when you are sitting in their main dining room...</td>\n",
       "      <td>ambience</td>\n",
       "      <td>1</td>\n",
       "    </tr>\n",
       "  </tbody>\n",
       "</table>\n",
       "</div>"
      ],
      "text/plain": [
       "   id                                               text  \\\n",
       "0   0  out of the hundreds of italian restaurants in ...   \n",
       "1   1                                 i go twice a month   \n",
       "2   2  my fiance took me to scopa last week for my bi...   \n",
       "3   3  incredible food at a very agreable price bring...   \n",
       "4   4  when you are sitting in their main dining room...   \n",
       "\n",
       "                    aspect  polarity  \n",
       "0  anecdotes miscellaneous         1  \n",
       "1  anecdotes miscellaneous         0  \n",
       "2  anecdotes miscellaneous         0  \n",
       "3                    price         1  \n",
       "4                 ambience         1  "
      ]
     },
     "execution_count": 148,
     "metadata": {},
     "output_type": "execute_result"
    }
   ],
   "source": [
    "df.insert(0,'id',list(range(df.shape[0])))\n",
    "df.head()"
   ]
  },
  {
   "cell_type": "code",
   "execution_count": 149,
   "metadata": {},
   "outputs": [],
   "source": [
    "train = df[:int(0.7*len(data))]\n",
    "test = df[int(0.7*len(data)):]\n",
    "train.to_csv('data/train_laptop.tsv', sep='\\t',index=0)\n",
    "test.to_csv('data/test_lapop.tsv', sep='\\t',index=0)"
   ]
  },
  {
   "cell_type": "code",
   "execution_count": 150,
   "metadata": {},
   "outputs": [],
   "source": [
    "corpus = pd.DataFrame(data=processed_text)\n",
    "corpus.to_csv('data/corpus.csv', header=0, index=0)"
   ]
  },
  {
   "cell_type": "markdown",
   "metadata": {},
   "source": [
    "# 词向量"
   ]
  },
  {
   "cell_type": "code",
   "execution_count": null,
   "metadata": {},
   "outputs": [],
   "source": [
    "from gensim.models import word2vec "
   ]
  },
  {
   "cell_type": "code",
   "execution_count": null,
   "metadata": {},
   "outputs": [],
   "source": [
    "sentences = word2vec.LineSentence('data/corpus.csv')\n",
    "model = word2vec.Word2Vec(sentences, min_count=1)# 待考虑"
   ]
  },
  {
   "cell_type": "code",
   "execution_count": null,
   "metadata": {},
   "outputs": [],
   "source": [
    "pairs = [\n",
    "    ('food', 'exceptional'),  \n",
    "    ('fair', 'kitchen'),   \n",
    "]\n",
    "for w1, w2 in pairs:\n",
    "    print('%r\\t%r\\t%.2f' % (w1, w2,model.wv.similarity(w1, w2)))"
   ]
  },
  {
   "cell_type": "code",
   "execution_count": null,
   "metadata": {},
   "outputs": [],
   "source": [
    "model.wv.save_word2vec_format('data/myvector.vector', binary=False)"
   ]
  },
  {
   "cell_type": "markdown",
   "metadata": {},
   "source": [
    "1 数据处理\n",
    "打乱 删除conflict 属性\n"
   ]
  }
 ],
 "metadata": {
  "hide_input": false,
  "kernelspec": {
   "display_name": "Python 3",
   "language": "python",
   "name": "python3"
  },
  "language_info": {
   "codemirror_mode": {
    "name": "ipython",
    "version": 3
   },
   "file_extension": ".py",
   "mimetype": "text/x-python",
   "name": "python",
   "nbconvert_exporter": "python",
   "pygments_lexer": "ipython3",
   "version": "3.8.3"
  },
  "toc": {
   "base_numbering": 1,
   "nav_menu": {},
   "number_sections": true,
   "sideBar": true,
   "skip_h1_title": false,
   "title_cell": "Table of Contents",
   "title_sidebar": "Contents",
   "toc_cell": false,
   "toc_position": {},
   "toc_section_display": true,
   "toc_window_display": true
  },
  "varInspector": {
   "cols": {
    "lenName": 16,
    "lenType": 16,
    "lenVar": 40
   },
   "kernels_config": {
    "python": {
     "delete_cmd_postfix": "",
     "delete_cmd_prefix": "del ",
     "library": "var_list.py",
     "varRefreshCmd": "print(var_dic_list())"
    },
    "r": {
     "delete_cmd_postfix": ") ",
     "delete_cmd_prefix": "rm(",
     "library": "var_list.r",
     "varRefreshCmd": "cat(var_dic_list()) "
    }
   },
   "position": {
    "height": "224.208px",
    "left": "601.111px",
    "right": "20px",
    "top": "109px",
    "width": "417.194px"
   },
   "types_to_exclude": [
    "module",
    "function",
    "builtin_function_or_method",
    "instance",
    "_Feature"
   ],
   "window_display": false
  }
 },
 "nbformat": 4,
 "nbformat_minor": 4
}
